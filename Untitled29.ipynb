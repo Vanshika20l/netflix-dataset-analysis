{
  "nbformat": 4,
  "nbformat_minor": 0,
  "metadata": {
    "colab": {
      "provenance": []
    },
    "kernelspec": {
      "name": "python3",
      "display_name": "Python 3"
    },
    "language_info": {
      "name": "python"
    }
  },
  "cells": [
    {
      "cell_type": "markdown",
      "source": [
        "# Import libraries"
      ],
      "metadata": {
        "id": "iBIJwX-a7MDp"
      }
    },
    {
      "cell_type": "code",
      "execution_count": 1,
      "metadata": {
        "id": "BpYkFD_x6wN3"
      },
      "outputs": [],
      "source": [
        "import pandas as pd"
      ]
    },
    {
      "cell_type": "markdown",
      "source": [
        "# load the dataset"
      ],
      "metadata": {
        "id": "24RE3j_k7UF5"
      }
    },
    {
      "cell_type": "code",
      "source": [
        "df = pd.read_csv('/content/drive/MyDrive/data/netflix_titles.csv')"
      ],
      "metadata": {
        "id": "uBg6YlyU7Syh"
      },
      "execution_count": 2,
      "outputs": []
    },
    {
      "cell_type": "markdown",
      "source": [
        "# Display the first few rows of the datset"
      ],
      "metadata": {
        "id": "8CFDsjsc7rxE"
      }
    },
    {
      "cell_type": "code",
      "source": [
        "print(\"Initial Dataset:\")"
      ],
      "metadata": {
        "colab": {
          "base_uri": "https://localhost:8080/"
        },
        "id": "tqtarfT97iHW",
        "outputId": "df73b691-f406-4367-eb89-35d21e78f1e5"
      },
      "execution_count": 3,
      "outputs": [
        {
          "output_type": "stream",
          "name": "stdout",
          "text": [
            "Initial Dataset:\n"
          ]
        }
      ]
    },
    {
      "cell_type": "code",
      "source": [
        "print(df.head())"
      ],
      "metadata": {
        "colab": {
          "base_uri": "https://localhost:8080/"
        },
        "id": "LqtEC2Tw78w3",
        "outputId": "def33d3f-8322-4cbf-993b-676497ff2af3"
      },
      "execution_count": 4,
      "outputs": [
        {
          "output_type": "stream",
          "name": "stdout",
          "text": [
            "  show_id     type                  title         director  \\\n",
            "0      s1    Movie   Dick Johnson Is Dead  Kirsten Johnson   \n",
            "1      s2  TV Show          Blood & Water              NaN   \n",
            "2      s3  TV Show              Ganglands  Julien Leclercq   \n",
            "3      s4  TV Show  Jailbirds New Orleans              NaN   \n",
            "4      s5  TV Show           Kota Factory              NaN   \n",
            "\n",
            "                                                cast        country  \\\n",
            "0                                                NaN  United States   \n",
            "1  Ama Qamata, Khosi Ngema, Gail Mabalane, Thaban...   South Africa   \n",
            "2  Sami Bouajila, Tracy Gotoas, Samuel Jouy, Nabi...            NaN   \n",
            "3                                                NaN            NaN   \n",
            "4  Mayur More, Jitendra Kumar, Ranjan Raj, Alam K...          India   \n",
            "\n",
            "           date_added  release_year rating   duration  \\\n",
            "0  September 25, 2021          2020  PG-13     90 min   \n",
            "1  September 24, 2021          2021  TV-MA  2 Seasons   \n",
            "2  September 24, 2021          2021  TV-MA   1 Season   \n",
            "3  September 24, 2021          2021  TV-MA   1 Season   \n",
            "4  September 24, 2021          2021  TV-MA  2 Seasons   \n",
            "\n",
            "                                           listed_in  \\\n",
            "0                                      Documentaries   \n",
            "1    International TV Shows, TV Dramas, TV Mysteries   \n",
            "2  Crime TV Shows, International TV Shows, TV Act...   \n",
            "3                             Docuseries, Reality TV   \n",
            "4  International TV Shows, Romantic TV Shows, TV ...   \n",
            "\n",
            "                                         description  \n",
            "0  As her father nears the end of his life, filmm...  \n",
            "1  After crossing paths at a party, a Cape Town t...  \n",
            "2  To protect his family from a powerful drug lor...  \n",
            "3  Feuds, flirtations and toilet talk go down amo...  \n",
            "4  In a city of coaching centers known to train I...  \n"
          ]
        }
      ]
    },
    {
      "cell_type": "markdown",
      "source": [
        "# Step 1 Identify and handle missing values"
      ],
      "metadata": {
        "id": "EYDzNpBw8rq_"
      }
    },
    {
      "cell_type": "code",
      "source": [
        "# check for missing values"
      ],
      "metadata": {
        "id": "jYyBNmPv8zUU"
      },
      "execution_count": null,
      "outputs": []
    },
    {
      "cell_type": "code",
      "source": [
        "missing_values = df.isnull().sum()"
      ],
      "metadata": {
        "id": "GG1IP4UV8vmj"
      },
      "execution_count": 5,
      "outputs": []
    },
    {
      "cell_type": "code",
      "source": [
        "print(\"\\nMissing Values in Each Column:\")"
      ],
      "metadata": {
        "colab": {
          "base_uri": "https://localhost:8080/"
        },
        "id": "c6jh_sJ48-y_",
        "outputId": "d789ff98-183c-4d7c-9caf-f9424533f63b"
      },
      "execution_count": 6,
      "outputs": [
        {
          "output_type": "stream",
          "name": "stdout",
          "text": [
            "\n",
            "Missing Values in Each Column:\n"
          ]
        }
      ]
    },
    {
      "cell_type": "code",
      "source": [
        "print(missing_values)"
      ],
      "metadata": {
        "colab": {
          "base_uri": "https://localhost:8080/"
        },
        "id": "MA-gGFDb9OUf",
        "outputId": "9448469a-87e6-415f-f360-1cae0943bf67"
      },
      "execution_count": 7,
      "outputs": [
        {
          "output_type": "stream",
          "name": "stdout",
          "text": [
            "show_id            0\n",
            "type               0\n",
            "title              0\n",
            "director        2634\n",
            "cast             825\n",
            "country          831\n",
            "date_added        10\n",
            "release_year       0\n",
            "rating             4\n",
            "duration           3\n",
            "listed_in          0\n",
            "description        0\n",
            "dtype: int64\n"
          ]
        }
      ]
    },
    {
      "cell_type": "markdown",
      "source": [
        "# Handling missing values"
      ],
      "metadata": {
        "id": "qoM_6IilS7uO"
      }
    },
    {
      "cell_type": "code",
      "source": [
        "# Fill missing values for 'director' and 'cast' with 'Unknown"
      ],
      "metadata": {
        "id": "bdRaju-UTAW1"
      },
      "execution_count": null,
      "outputs": []
    },
    {
      "cell_type": "code",
      "source": [
        "df['director'] = df['director'].fillna('Unknown')"
      ],
      "metadata": {
        "id": "UJxmZ9tV9SoH"
      },
      "execution_count": 8,
      "outputs": []
    },
    {
      "cell_type": "code",
      "source": [
        "df['cast'] = df['cast'].fillna('Unknown')"
      ],
      "metadata": {
        "id": "NTT2PsdZMAVN"
      },
      "execution_count": 9,
      "outputs": []
    },
    {
      "cell_type": "code",
      "source": [
        "# fill missing values for 'country' with 'Not Specified'"
      ],
      "metadata": {
        "id": "ddka57ZdS1zz"
      },
      "execution_count": null,
      "outputs": []
    },
    {
      "cell_type": "code",
      "source": [
        "df['country'] = df['country'].fillna('Not Specified')"
      ],
      "metadata": {
        "id": "7o4wU7npMKq-"
      },
      "execution_count": 38,
      "outputs": []
    },
    {
      "cell_type": "markdown",
      "source": [
        "# Step 2 Remove Duplicate Rows"
      ],
      "metadata": {
        "id": "MgiKSjYsSFM5"
      }
    },
    {
      "cell_type": "code",
      "source": [
        "# check for duplicates"
      ],
      "metadata": {
        "id": "-p2_nSKvSOKZ"
      },
      "execution_count": null,
      "outputs": []
    },
    {
      "cell_type": "code",
      "source": [
        "duplicates = df.duplicated().sum()"
      ],
      "metadata": {
        "id": "jtw97yfBMwr6"
      },
      "execution_count": 11,
      "outputs": []
    },
    {
      "cell_type": "code",
      "source": [
        "print(f\"\\nNumber of Duplicate Rows: {duplicates}\")"
      ],
      "metadata": {
        "colab": {
          "base_uri": "https://localhost:8080/"
        },
        "id": "n6K8gMyhNT_l",
        "outputId": "88d03a78-ab0f-4e8f-bc21-756b1ccca264"
      },
      "execution_count": 12,
      "outputs": [
        {
          "output_type": "stream",
          "name": "stdout",
          "text": [
            "\n",
            "Number of Duplicate Rows: 0\n"
          ]
        }
      ]
    },
    {
      "cell_type": "code",
      "source": [
        "# Remove duplicates"
      ],
      "metadata": {
        "id": "lslvLHRsNi7j"
      },
      "execution_count": null,
      "outputs": []
    },
    {
      "cell_type": "code",
      "source": [
        "df = df.drop_duplicates()"
      ],
      "metadata": {
        "id": "B7sgdIm-Nhb1"
      },
      "execution_count": 13,
      "outputs": []
    },
    {
      "cell_type": "markdown",
      "source": [
        "# Step 3 Standardize text values"
      ],
      "metadata": {
        "id": "lp6MMagPNyNt"
      }
    },
    {
      "cell_type": "code",
      "source": [
        "# Standardizing 'rating' values to lowercase"
      ],
      "metadata": {
        "id": "J2QqRv7lNtZ4"
      },
      "execution_count": null,
      "outputs": []
    },
    {
      "cell_type": "code",
      "source": [
        "df['rating'] = df['rating'].str.lower().str.strip()"
      ],
      "metadata": {
        "id": "DkKwiHqrNr1-"
      },
      "execution_count": 14,
      "outputs": []
    },
    {
      "cell_type": "markdown",
      "source": [
        "# Step 4 Convert data formats"
      ],
      "metadata": {
        "id": "mUWd6eWUOL-q"
      }
    },
    {
      "cell_type": "code",
      "source": [
        "# convert 'date_added' column to datetime format"
      ],
      "metadata": {
        "id": "CMIsWHhhOJh5"
      },
      "execution_count": 15,
      "outputs": []
    },
    {
      "cell_type": "code",
      "source": [
        "df['date_added'] = pd.to_datetime(df['date_added'], format='%B %d, %Y')"
      ],
      "metadata": {
        "id": "h1Wm5O4-O318"
      },
      "execution_count": 20,
      "outputs": []
    },
    {
      "cell_type": "markdown",
      "source": [
        "# Step 5 Rename Column Headers"
      ],
      "metadata": {
        "id": "P66RCbVVQYh-"
      }
    },
    {
      "cell_type": "code",
      "source": [
        "df.columns = df.columns.str.lower().str.replace(' ', '_')"
      ],
      "metadata": {
        "id": "3ARfrLpgQEUX"
      },
      "execution_count": 21,
      "outputs": []
    },
    {
      "cell_type": "markdown",
      "source": [
        "# Step 6 check and fix data types"
      ],
      "metadata": {
        "id": "xC_oAUHbQkFT"
      }
    },
    {
      "cell_type": "code",
      "source": [
        "# Ensure 'release_year' is an integer"
      ],
      "metadata": {
        "id": "l7zhhRviQjCA"
      },
      "execution_count": 22,
      "outputs": []
    },
    {
      "cell_type": "code",
      "source": [
        "df['release_year'] = df['release_year'].astype(int)"
      ],
      "metadata": {
        "id": "SvG3Lu3EQwOV"
      },
      "execution_count": 23,
      "outputs": []
    },
    {
      "cell_type": "markdown",
      "source": [
        "# Step 7: Handle inconsistent data formats"
      ],
      "metadata": {
        "id": "0i-UT3j3Q1SY"
      }
    },
    {
      "cell_type": "code",
      "source": [
        "# Example: Standardizing 'type' values"
      ],
      "metadata": {
        "id": "S1W_rYI_QzY7"
      },
      "execution_count": 24,
      "outputs": []
    },
    {
      "cell_type": "code",
      "source": [
        "df['type'] = df['type'].str.lower().str.strip()"
      ],
      "metadata": {
        "id": "wpvVHaoKQ8iM"
      },
      "execution_count": 25,
      "outputs": []
    },
    {
      "cell_type": "markdown",
      "source": [
        "# Step 8: Check data quality"
      ],
      "metadata": {
        "id": "1x8c9XwGQ_-R"
      }
    },
    {
      "cell_type": "code",
      "source": [
        "# Example: Check for valid ratings"
      ],
      "metadata": {
        "id": "HX9doGbFQ-2R"
      },
      "execution_count": 26,
      "outputs": []
    },
    {
      "cell_type": "code",
      "source": [
        "valid_ratings = ['g', 'pg', 'pg-13', 'r', 'tv-ma', 'tv-pg', 'tv-14']"
      ],
      "metadata": {
        "id": "SLMRyf5gRHXL"
      },
      "execution_count": 27,
      "outputs": []
    },
    {
      "cell_type": "code",
      "source": [
        "df = df[df['rating'].isin(valid_ratings)]"
      ],
      "metadata": {
        "id": "M8V_k2tYRKg6"
      },
      "execution_count": 28,
      "outputs": []
    },
    {
      "cell_type": "markdown",
      "source": [
        "# Step 9: Document changes"
      ],
      "metadata": {
        "id": "ZSPLMJPiRQ_1"
      }
    },
    {
      "cell_type": "code",
      "source": [
        "summary = {\n",
        "    \"missing_values_handled\": True,\n",
        "    \"duplicates_removed\": True,\n",
        "    \"text_values_standardized\": True,\n",
        "    \"date_format_converted\": True,\n",
        "    \"column_headers_renamed\": True,\n",
        "    \"data_types_fixed\": True,\n",
        "    \"valid_ratings_checked\": True\n",
        "}"
      ],
      "metadata": {
        "id": "SANJ6L47RPXn"
      },
      "execution_count": 29,
      "outputs": []
    },
    {
      "cell_type": "code",
      "source": [
        "print(\"\\nSummary of Changes:\")"
      ],
      "metadata": {
        "colab": {
          "base_uri": "https://localhost:8080/"
        },
        "id": "uJy3A-8ERZis",
        "outputId": "e8e62d44-ed38-431a-f5dc-f271ef49e387"
      },
      "execution_count": 30,
      "outputs": [
        {
          "output_type": "stream",
          "name": "stdout",
          "text": [
            "\n",
            "Summary of Changes:\n"
          ]
        }
      ]
    },
    {
      "cell_type": "code",
      "source": [
        "for key, value in summary.items():\n",
        "  print(f\"{key}: {value}\")"
      ],
      "metadata": {
        "colab": {
          "base_uri": "https://localhost:8080/"
        },
        "id": "4R_meRYnRc7s",
        "outputId": "3a949f10-076f-43e0-94bc-627c2daf5989"
      },
      "execution_count": 32,
      "outputs": [
        {
          "output_type": "stream",
          "name": "stdout",
          "text": [
            "missing_values_handled: True\n",
            "duplicates_removed: True\n",
            "text_values_standardized: True\n",
            "date_format_converted: True\n",
            "column_headers_renamed: True\n",
            "data_types_fixed: True\n",
            "valid_ratings_checked: True\n"
          ]
        }
      ]
    },
    {
      "cell_type": "code",
      "source": [
        "# Display the cleaned dataset"
      ],
      "metadata": {
        "id": "ZCbGoMVzRfxm"
      },
      "execution_count": 33,
      "outputs": []
    },
    {
      "cell_type": "code",
      "source": [
        "print(\"\\nCleaned Dataset:\")"
      ],
      "metadata": {
        "colab": {
          "base_uri": "https://localhost:8080/"
        },
        "id": "IzjsXfPMRsjq",
        "outputId": "fabdb3bd-3112-4ae0-81f5-9bbd4c7bc8d8"
      },
      "execution_count": 34,
      "outputs": [
        {
          "output_type": "stream",
          "name": "stdout",
          "text": [
            "\n",
            "Cleaned Dataset:\n"
          ]
        }
      ]
    },
    {
      "cell_type": "code",
      "source": [
        "print(df.head())"
      ],
      "metadata": {
        "colab": {
          "base_uri": "https://localhost:8080/"
        },
        "id": "srCCDRE8RySj",
        "outputId": "715d0db2-4c0f-468d-9ea7-6343d128960e"
      },
      "execution_count": 35,
      "outputs": [
        {
          "output_type": "stream",
          "name": "stdout",
          "text": [
            "  show_id     type                  title         director  \\\n",
            "0      s1    movie   Dick Johnson Is Dead  Kirsten Johnson   \n",
            "1      s2  tv show          Blood & Water          Unknown   \n",
            "2      s3  tv show              Ganglands  Julien Leclercq   \n",
            "3      s4  tv show  Jailbirds New Orleans          Unknown   \n",
            "4      s5  tv show           Kota Factory          Unknown   \n",
            "\n",
            "                                                cast        country  \\\n",
            "0                                            Unknown  United States   \n",
            "1  Ama Qamata, Khosi Ngema, Gail Mabalane, Thaban...   South Africa   \n",
            "2  Sami Bouajila, Tracy Gotoas, Samuel Jouy, Nabi...  Not Specified   \n",
            "3                                            Unknown  Not Specified   \n",
            "4  Mayur More, Jitendra Kumar, Ranjan Raj, Alam K...          India   \n",
            "\n",
            "  date_added  release_year rating   duration  \\\n",
            "0 2021-09-25          2020  pg-13     90 min   \n",
            "1 2021-09-24          2021  tv-ma  2 Seasons   \n",
            "2 2021-09-24          2021  tv-ma   1 Season   \n",
            "3 2021-09-24          2021  tv-ma   1 Season   \n",
            "4 2021-09-24          2021  tv-ma  2 Seasons   \n",
            "\n",
            "                                           listed_in  \\\n",
            "0                                      Documentaries   \n",
            "1    International TV Shows, TV Dramas, TV Mysteries   \n",
            "2  Crime TV Shows, International TV Shows, TV Act...   \n",
            "3                             Docuseries, Reality TV   \n",
            "4  International TV Shows, Romantic TV Shows, TV ...   \n",
            "\n",
            "                                         description  \n",
            "0  As her father nears the end of his life, filmm...  \n",
            "1  After crossing paths at a party, a Cape Town t...  \n",
            "2  To protect his family from a powerful drug lor...  \n",
            "3  Feuds, flirtations and toilet talk go down amo...  \n",
            "4  In a city of coaching centers known to train I...  \n"
          ]
        }
      ]
    },
    {
      "cell_type": "code",
      "source": [
        "# Save the cleaned dataset to a new CSV file"
      ],
      "metadata": {
        "id": "Fb_A1eW-R1F1"
      },
      "execution_count": 36,
      "outputs": []
    },
    {
      "cell_type": "code",
      "source": [
        "df.to_csv('cleaned_netflix_titles.csv', index=False)"
      ],
      "metadata": {
        "id": "4cqIVNeNR4Xi"
      },
      "execution_count": 37,
      "outputs": []
    },
    {
      "cell_type": "code",
      "source": [],
      "metadata": {
        "id": "Ucbl970AR_Rv"
      },
      "execution_count": null,
      "outputs": []
    }
  ]
}